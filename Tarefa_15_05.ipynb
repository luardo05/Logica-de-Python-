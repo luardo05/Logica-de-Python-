{
  "nbformat": 4,
  "nbformat_minor": 0,
  "metadata": {
    "colab": {
      "provenance": [],
      "authorship_tag": "ABX9TyO4oD+f4icNlA3l7ZAi1k+/",
      "include_colab_link": true
    },
    "kernelspec": {
      "name": "python3",
      "display_name": "Python 3"
    },
    "language_info": {
      "name": "python"
    }
  },
  "cells": [
    {
      "cell_type": "markdown",
      "metadata": {
        "id": "view-in-github",
        "colab_type": "text"
      },
      "source": [
        "<a href=\"https://colab.research.google.com/github/luardo05/Logica-de-Python-/blob/main/Tarefa_15_05.ipynb\" target=\"_parent\"><img src=\"https://colab.research.google.com/assets/colab-badge.svg\" alt=\"Open In Colab\"/></a>"
      ]
    },
    {
      "cell_type": "code",
      "execution_count": null,
      "metadata": {
        "id": "5dxVjJXSqJQd"
      },
      "outputs": [],
      "source": [
        "#1. Faça um Programa que verifique se uma letra digitada é vogal ou consoante\n",
        "variavel = input(\"Escreva uma letra:\")\n",
        "if(variavel == \"a\" or variavel == \"e\" or variavel == \"i\" or variavel == \"o\" or variavel == \"u\" or variavel == \"A\" or variavel == \"E\" or variavel == \"I\" or variavel == \"O\" or variavel == \"U\"):\n",
        "  print(\"É uma vogal\")\n",
        "else:\n",
        "  print(\"É uma consoante\")\n"
      ]
    },
    {
      "cell_type": "code",
      "source": [
        "#2. Faça um programa que pergunte o preço de três produtos e informe qual produto você deve comprar,\n",
        "#sabendo que a decisão é sempre polo mais barato\n",
        "produto1 = float(input(\"Digite o preço do primeiro produto: \"))\n",
        "produto2 = float(input(\"Digite o preço do segundo produto: \"))\n",
        "produto3 = float(input(\"Digite o preço do terceiro produto: \"))\n",
        "\n",
        "if(produto1 < produto2 and produto1 < produto3):\n",
        "  print(\"Você deve comprar o primeiro produto, no valor de\", produto1)\n",
        "\n",
        "elif(produto2 < produto1 and produto2 < produto3):\n",
        "  print(\"Você deve comprar o segundo produto, no valor de\", produto2)\n",
        "\n",
        "elif(produto3 < produto1 and produto3 < produto2):\n",
        "  print(\"Você deve comprar o terceiro produto, no valor de\", produto3)\n",
        "\n",
        "elif(produto1 == produto2 == produto3):\n",
        "  print(\"compra qualquer um\")\n",
        "\n",
        "else:\n",
        "  print(\"As coisas estão muito caras\")\n"
      ],
      "metadata": {
        "id": "_yy1gJfRCVl9",
        "colab": {
          "base_uri": "https://localhost:8080/"
        },
        "outputId": "1dbac1ce-f99b-4a2f-94cb-d4c311f5730b"
      },
      "execution_count": null,
      "outputs": [
        {
          "output_type": "stream",
          "name": "stdout",
          "text": [
            "Digite o preço do primeiro produto: 1\n",
            "Digite o preço do segundo produto: 1\n",
            "Digite o preço do terceiro produto: 1\n",
            "compra qualquer um\n"
          ]
        }
      ]
    },
    {
      "cell_type": "code",
      "source": [
        "#3. Faça um Programa que leia três números e mostre-os em ordem decrescente.\n",
        "valor1 = int(input(\"Digite o primeiro numero: \"))\n",
        "valor2 = int(input(\"Digite o segundo numero: \"))\n",
        "valor3 = int(input(\"Digite o terceiro numero: \"))\n",
        "if(valor1 > valor2 and valor2 > valor3):\n",
        "  print(valor1, valor2, valor3)\n",
        "elif(valor1 > valor3 and valor3 > valor2):\n",
        "  print(valor1, valor3, valor2)\n",
        "elif(valor2 > valor1 and valor1 > valor3):\n",
        "  print(valor2, valor1, valor3)\n",
        "elif(valor2 > valor3 and valor3 > valor1):\n",
        "  print(valor2, valor3, valor1)\n",
        "elif(valor3 > valor1 and valor1 > valor2):\n",
        "  print(valor3, valor1, valor2)\n",
        "elif(valor3 > valor2 and valor2 > valor1):\n",
        "  print(valor3, valor2, valor1)\n",
        "else:\n",
        "   (\"Deu errado\")\n"
      ],
      "metadata": {
        "id": "ckxrhbDqCV4t",
        "colab": {
          "base_uri": "https://localhost:8080/"
        },
        "outputId": "006cd774-ff87-447f-e52e-7b90267ed90b"
      },
      "execution_count": null,
      "outputs": [
        {
          "output_type": "stream",
          "name": "stdout",
          "text": [
            "Digite o primeiro numero: 20\n",
            "Digite o segundo numero: 80\n",
            "Digite o terceiro numero: 70\n",
            "80 70 20\n"
          ]
        }
      ]
    },
    {
      "cell_type": "code",
      "source": [
        "#4. Faça um Programa que pergunte em que turno você estuda. Peça para digitar M-matutino ou V-Vespertino ou N- Noturno.\n",
        "#Imprima a mensagem Bom Dia, Boa Tarde ou Boa Noite ou \"Valor Invalidol, conforme o caso\n",
        "turno = input(\"Em que turno você estuda?\\n(M-matutino ou V-Vespertino ou N- Noturno)\\n\")\n",
        "if (turno == \"M\" or turno == \"m\"):\n",
        "  print(\"Bom dia!\")\n",
        "elif(turno == \"V\" or turno == \"v\"):\n",
        "  print(\"Boa tarde!\")\n",
        "elif(turno == \"N\" or turno == \"n\"):\n",
        "  print(\"Boa noite!\")\n",
        "else:\n",
        "   print(\"Valor invalido!\")"
      ],
      "metadata": {
        "id": "65S6nFB9CWKm",
        "colab": {
          "base_uri": "https://localhost:8080/"
        },
        "outputId": "c1bae3a2-da1f-4b56-dfd7-808e55a1d7d1"
      },
      "execution_count": null,
      "outputs": [
        {
          "output_type": "stream",
          "name": "stdout",
          "text": [
            "Em que turno você estuda?\n",
            "(M-matutino ou V-Vespertino ou N- Noturno)\n",
            "n\n",
            "Boa noite\n"
          ]
        }
      ]
    },
    {
      "cell_type": "code",
      "source": [
        "#5. Faça um Programa que leia um número e exiba o dia correspondente da semana.\n",
        "#(1-Domingo, 2-Segunda, etc). Se for digitado outro valor deve retomar uma mensagem informando valor inválido.\n",
        "diaSemana = int(input(\"Escreva um numero de 1 a 7 para um dia da semana: \"))\n",
        "if(diaSemana == 1):\n",
        "  print(\"Domingo\")\n",
        "elif(diaSemana == 2):\n",
        "  print(\"Segunda\")\n",
        "elif(diaSemana == 3):\n",
        "  print(\"Terça\")\n",
        "elif(diaSemana == 4):\n",
        "  print(\"Quarta\")\n",
        "elif(diaSemana == 5):\n",
        "  print(\"Quinta\")\n",
        "elif(diaSemana == 6):\n",
        "  print(\"Sexta\")\n",
        "elif(diaSemana == 7):\n",
        "  print(\"Sábado\")\n",
        "else:\n",
        "  print(\"Valor invalido\")"
      ],
      "metadata": {
        "colab": {
          "base_uri": "https://localhost:8080/"
        },
        "id": "vZt3eG8FPezo",
        "outputId": "f2359507-ecd4-4123-e3b5-31f2b802a9a7"
      },
      "execution_count": null,
      "outputs": [
        {
          "output_type": "stream",
          "name": "stdout",
          "text": [
            "Escreva um numero de 1 a 7 para um dia da semana: 7\n",
            "Sábado\n"
          ]
        }
      ]
    },
    {
      "cell_type": "code",
      "source": [
        "#5. Faça um programa que le as duas notas parciais obtidas por um aluno numa disciplina ao longo de um semestre,\n",
        "#e calcule a sua media. A atribuição de conceitos obedece as regras\n",
        "#Entre 9.0 e 10.0 | A\n",
        "#Entre 7.5 e 9.0  | B\n",
        "#Entre 6.0 e 7.5  | C\n",
        "#Entre 4.0 e 6.0  | D\n",
        "#Entre 4.0 e zero | E\n",
        "#O programa deve mostrar na tela as notas, a média, o conceito correspondente e a mensagem \"APROVADO\" se o conceito for A, B oυ C ou\n",
        "#\"REPROVADO\" se o conceito for Dou E\n",
        "\n",
        "nota1 = float(input(\"Digite a primeira nota: \"))\n",
        "nota2 = float(input(\"Digite a segunda nota: \"))\n",
        "media = (nota1+nota2)/2\n",
        "\n",
        "if(media >= 9 and media <= 10):\n",
        "  print(\"suas notas foram:\",nota1,\"e\",nota2, \"sendo a sua média:\", media, \", o seu conceito foi A, APROVADO\")\n",
        "elif(media >= 7.5 and media <= 9):\n",
        "  print(\"suas notas foram:\",nota1,\"e\",nota2, \"sendo a sua média:\", media, \", o seu conceito foi B, APROVADO\")\n",
        "elif(media >= 6 and media <= 7.5):\n",
        "  print(\"suas notas foram:\",nota1,\"e\",nota2, \"sendo a sua média:\", media, \", o seu conceito foi C, APROVADO\")\n",
        "elif(media >= 4 and media <= 6):\n",
        "  print(\"suas notas foram:\",nota1,\"e\",nota2, \"sendo a sua média:\", media, \", o seu conceito foi D, REPROVADO\")\n",
        "elif(media >= 0 and media <= 4):\n",
        "  print(\"suas notas foram:\",nota1,\"e\",nota2, \"sendo a sua média:\", media, \", o seu conceito foi E, REPROVADO\")\n",
        "else:\n",
        "  print(\"Notas invalidas\")\n"
      ],
      "metadata": {
        "id": "K9cE9s2qCWn2",
        "colab": {
          "base_uri": "https://localhost:8080/"
        },
        "outputId": "5815a5d6-d063-442e-c1e9-4d450b99f321"
      },
      "execution_count": null,
      "outputs": [
        {
          "output_type": "stream",
          "name": "stdout",
          "text": [
            "Digite a primeira nota: 2\n",
            "Digite a segunda nota: 2\n",
            "suas notas foram: 2.0 e 2.0 sendo a sua média: 2.0 , o seu conceito foi E, REPROVADO\n"
          ]
        }
      ]
    },
    {
      "cell_type": "code",
      "source": [
        "#6. Faça um Programa que peça um número correspondente a um determinado ano e em seguida informe se este ano é ou não bissexto.\n",
        "ano = int(input(\"Informe o ano: \"))\n",
        "if(ano%4 == 0):\n",
        "  print(\"Esse é um ano bissexto\")\n",
        "else:\n",
        "  print(\"Esse não é ano bissexto\")"
      ],
      "metadata": {
        "id": "Ak3mfbeXCWqe",
        "colab": {
          "base_uri": "https://localhost:8080/"
        },
        "outputId": "2a4b7707-acbe-400d-aaf1-da94c5d5bf02"
      },
      "execution_count": null,
      "outputs": [
        {
          "output_type": "stream",
          "name": "stdout",
          "text": [
            "Informe o ano: 2002\n",
            "Esse não é ano bissexto\n"
          ]
        }
      ]
    },
    {
      "cell_type": "code",
      "source": [
        "#7. Faça um Programa que leia 2 números e em seguida pergunte so usuário qual operação\n",
        "#básica(soma, subtração, multiplicação, divisão, exponenciação) ele deseja realizar.\n",
        "#O resultado da operação deve ser acompanhado de uma frase que diga se o número é par ou impar positive ou negativo;\n",
        "#inteiro ou decimal.\n",
        "n1 = float(input(\"Digite o primeiro numero: \"))\n",
        "n2 = float(input(\"Digite o segundo numero: \"))\n",
        "\n",
        "soma = n1 + n2\n",
        "sub = n1 - n2\n",
        "div = n1 / n2\n",
        "mult = n1 * n2\n",
        "exp = n1 ** n2\n",
        "\n",
        "op = input(\"Qual operação você deseja realizar?\\n(soma, subtração, multiplicação, divisão, exponenciação):  \")\n",
        "if(op == \"soma\" or op ==\"SOMA\"):\n",
        "  print(\"O resultado da soma é:\", soma)\n",
        "  if(soma%2 == 0):\n",
        "    print(\"é um numero par\")\n",
        "  else:\n",
        "    print(\"É um numero impar\")\n",
        "  if(soma > 0):\n",
        "    print(\"É um numero positivo\")\n",
        "  else:\n",
        "     (\"É um numero negativo\")\n",
        "  if(soma // 1 == soma):\n",
        "    print(\"Numero inteiro\")\n",
        "  else:\n",
        "    print(\"Numero Decimal\")\n",
        "\n",
        "elif(op == \"subtracao\" or op ==\"SUBTRACAO\" or op == \"subtração\" or op ==\"SUBTRAÇÃO\"):\n",
        "  print(\"O resultado da subtração é:\", sub)\n",
        "  if(sub%2 == 0):\n",
        "    print(\"é um numero par\")\n",
        "  else:\n",
        "    print(\"É um numero impar\")\n",
        "  if(sub > 0):\n",
        "    print(\"É um numero positivo\")\n",
        "  else:\n",
        "     (\"É um numero negativo\")\n",
        "  if(sub // 1 == sub):\n",
        "    print(\"Numero inteiro\")\n",
        "  else:\n",
        "    print(\"Numero Decimal\")\n",
        "\n",
        "elif(op == \"multiplicacao\" or op ==\"MULTIPLICACAO\" or op == \"multiplicação\" or op ==\"MULTIPLICAÇÃO\"):\n",
        "  print(\"O resultado da multiplicação é:\", mult)\n",
        "  if(mult%2 == 0):\n",
        "    print(\"é um numero par\")\n",
        "  else:\n",
        "    print(\"É um numero impar\")\n",
        "  if(mult > 0):\n",
        "    print(\"É um numero positivo\")\n",
        "  else:\n",
        "     (\"É um numero negativo\")\n",
        "  if(mult // 1 == mult):\n",
        "    print(\"Numero inteiro\")\n",
        "  else:\n",
        "    print(\"Numero Decimal\")\n",
        "\n",
        "elif(op == \"divisao\" or op ==\"DIVISAO\" or op == \"divisão\" or op ==\"DIVISãO\"):\n",
        "  print(\"O resultado da multiplicação é:\", div)\n",
        "  if(div%2 == 0):\n",
        "    print(\"é um numero par\")\n",
        "  else:\n",
        "    print(\"É um numero impar\")\n",
        "  if(div > 0):\n",
        "    print(\"É um numero positivo\")\n",
        "  else:\n",
        "     (\"É um numero negativo\")\n",
        "  if(div // 1 == div):\n",
        "    print(\"Numero inteiro\")\n",
        "  else:\n",
        "    print(\"Numero Decimal\")\n",
        "\n",
        "elif(op == \"exponenciacao\" or op ==\"EXPONENCIACAO\" or op == \"exponenciação\" or op ==\"EXPONENCIAÇÃO\"):\n",
        "  print(\"O resultado da multiplicação é:\", exp)\n",
        "  if(exp%2 == 0):\n",
        "    print(\"é um numero par\")\n",
        "  else:\n",
        "    print(\"É um numero impar\")\n",
        "  if(exp > 0):\n",
        "    print(\"É um numero positivo\")\n",
        "  else:\n",
        "     (\"É um numero negativo\")\n",
        "  if(exp // 1 == exp):\n",
        "    print(\"Numero inteiro\")\n",
        "  else:\n",
        "    print(\"Numero Decimal\")\n",
        "\n",
        "else:\n",
        "  print(\"ERRO\")"
      ],
      "metadata": {
        "id": "PN2Vb8F8CWtW",
        "colab": {
          "base_uri": "https://localhost:8080/"
        },
        "outputId": "6bc79667-e64f-4b68-9b9f-82f48e2b4abe"
      },
      "execution_count": null,
      "outputs": [
        {
          "output_type": "stream",
          "name": "stdout",
          "text": [
            "Digite o primeiro numero: 0.6\n",
            "Digite o segundo numero: 5\n",
            "Qual operação você deseja realizar?\n",
            "(soma, subtração, multiplicação, divisão, exponenciação):  multiplicação\n",
            "O resultado da multiplicação é: 3.0\n",
            "É um numero impar\n",
            "É um numero positivo\n",
            "Numero inteiro\n"
          ]
        }
      ]
    },
    {
      "cell_type": "code",
      "source": [
        "#8. Faça um programa que peça a idade e exibe a informação. Os valores aceitáveis devem estar entre 0 e 150.\n",
        "#Valores fora desse limite não poderão ser aceitos.\n",
        "id = input(\"Qual a sua idade\")\n",
        "if(id >= 0 and id<= 150):\n",
        "  print(\"Sua idade é:\", id)\n",
        "else:\n",
        "  print(\"Dados não aceitos\")"
      ],
      "metadata": {
        "id": "xYw9-T1gCWvn"
      },
      "execution_count": null,
      "outputs": []
    },
    {
      "cell_type": "code",
      "source": [
        "#9. Utilizando estruturas de repetição e listas(com ou sem append),\n",
        "#faça um programa que leia 5 números e informe a soma e a média dos numeros\n",
        "\n",
        "nm1 = int(input(\"Digite o primerio numero: \"))\n",
        "nm2 = int(input(\"Digite o segundo numero: \"))\n",
        "nm3 = int(input(\"Digite o terceiro numero: \"))\n",
        "nm4 = int(input(\"Digite o quarto numero: \"))\n",
        "nm5 = int(input(\"Digite o quinto numero: \"))\n",
        "\n",
        "media = (nm1+nm2+nm3+nm4+nm5)/5\n",
        "somanm = nm1+nm2+nm3+nm4+nm5\n",
        "\n",
        "print(\"A soma dos numeros informados é de:\", somanm, \", e a media é de:\", media)"
      ],
      "metadata": {
        "id": "W18Vu2kKCWyI",
        "colab": {
          "base_uri": "https://localhost:8080/"
        },
        "outputId": "1a21b6cf-55d1-4792-b3c0-614f9755aae1"
      },
      "execution_count": null,
      "outputs": [
        {
          "output_type": "stream",
          "name": "stdout",
          "text": [
            "Digite o primerio numero: 1\n",
            "Digite o segundo numero: 1\n",
            "Digite o terceiro numero: 1\n",
            "Digite o quarto numero: 1\n",
            "Digite o quinto numero: 1\n",
            "A soma dos numeros informados é de: 5 , e a media é de: 1.0\n"
          ]
        }
      ]
    },
    {
      "cell_type": "code",
      "source": [
        "#10. Faça um programa que peça um número inteiro e determine se ele é ou não um número primo.\n",
        "#Um número primo é aquele que é divisivel somente por ele mesmo e por 1\n",
        "nP = int(input(\"Digite um numero: \"))\n",
        "if(nP == 2 or nP == 3):\n",
        "  print(\"Esse é um numero primo\")\n",
        "elif(nP%nP == 0 and nP%1 == 0 and nP%2 != 0 and nP%3 != 0):\n",
        "  print(\"Esse é um numero primo\")\n",
        "else:\n",
        "  print(\"Esse não é um numero primo\")\n"
      ],
      "metadata": {
        "id": "RY7zmsGhCW0O",
        "colab": {
          "base_uri": "https://localhost:8080/"
        },
        "outputId": "612be24c-d91f-433d-8adf-1836543e383f"
      },
      "execution_count": null,
      "outputs": [
        {
          "output_type": "stream",
          "name": "stdout",
          "text": [
            "Digite um numero: 8\n",
            "Esse não é um numero primo\n"
          ]
        }
      ]
    },
    {
      "cell_type": "code",
      "source": [
        "#11. 0 Departamento Estadual de Meteorologia te contratou para desenvolver um programa que leie 5 temperaturas,\n",
        "#e informe ao final a menor e a maior temperaturas informadas, bem como a média das temperaturas\n",
        "t1 = float(input(\"Digite a primeira temperatura: \"))\n",
        "t2 = float(input(\"Digite a segunda temperatura: \"))\n",
        "t3 = float(input(\"Digite a terceira temperatura: \"))\n",
        "t4 = float(input(\"Digite a quarta temperatura: \"))\n",
        "t5 = float(input(\"Digite a quinta temperatura: \"))\n",
        "tMedia=(t1 + t2 + t3 + t4 + t5)/5\n",
        "\n",
        "while (menor < 5):\n",
        "  print()\n"
      ],
      "metadata": {
        "id": "zGJq5YGFCW2e"
      },
      "execution_count": null,
      "outputs": []
    },
    {
      "cell_type": "code",
      "source": [
        "#12. Um banco concederá um crédito especial aos seus clientes, variável com o saldo médio no último ano.\n",
        "#Faça um algoritmo que leia o saldo médio de um cliente e calcule o valor do crédito de acordo com a tabela abaixo.\n",
        "#Mostre uma mensagem informando o saldo média e o valor do crédito.\n",
        "\n",
        "#Saldo médio  | Percentual\n",
        "#de 0 a 200   | nenhum crédito\n",
        "#de 201 a 400 | 20% do valor do saldo médio\n",
        "#de 401 a 600 | 30% do valor do saldo médio\n",
        "#acima de 601 | 40% do valor do saldo médio\n",
        "\n",
        "saldoP = float(input(\"Digite seu saldo médio: \"))\n",
        "if (saldoP >= 0 and saldoP <=200):\n",
        "  print(\"Seu saldo foi de\", saldoP, \"você não tem direito a credito\")\n",
        "elif(saldoP >= 201 and saldoP <=400):\n",
        "  print(\"Seu saldo foi de\", saldoP, \"você tem diretio a 20%, que seria de: \", (20/100*saldoP))\n",
        "elif(saldoP >= 401 and saldoP <=600):\n",
        "  print(\"Seu saldo foi de\", saldoP, \"você tem diretio a 30%, que seria de: \", (30/100*saldoP))\n",
        "elif(saldoP >= 601):\n",
        "  print(\"Seu saldo foi de\", saldoP, \"você tem diretio a 40%, que seria de: \", (40/100*saldoP))"
      ],
      "metadata": {
        "id": "_MOe4OIjDGiJ",
        "colab": {
          "base_uri": "https://localhost:8080/"
        },
        "outputId": "ee4afc0e-2b92-4193-e130-a6aecaff9cd6"
      },
      "execution_count": null,
      "outputs": [
        {
          "output_type": "stream",
          "name": "stdout",
          "text": [
            "Digite seu saldo médio: 400\n",
            "Seu saldo foi de 400.0 você tem diretio a 20%, que seria de:  80.0\n"
          ]
        }
      ]
    },
    {
      "cell_type": "code",
      "source": [
        "#13. Você foi contratado(a) para fazer um serviço para o INSS (Instituto Nacional do Seguro Social do Brasil.\n",
        "#O trabalho consiste criar um programa que diga a pessoa o ano que ela poderá se aposentar.\n",
        "#Você deve perguntar a pessoa, o nome, a idade e criar uma mensagem dizendo em qual ano ela irá se aposentar,\n",
        "#Considera que todas as pessoas poderão se aposentar aos 65 anos de idade(rs).\n",
        "\n",
        "nome = input(\"Digite seu nome: \")\n",
        "idade = int(input(\"Digite sua idade \"))\n",
        "if (idade >= 65):\n",
        "  print(\"Olá\", nome, \"você ja pode se aposentar\")\n",
        "else:\n",
        "  print(\"Olá\", nome, \", você poderá se aposentar em\", ((65-idade)+2024))"
      ],
      "metadata": {
        "id": "j1bIwVPKDGkW",
        "colab": {
          "base_uri": "https://localhost:8080/"
        },
        "outputId": "afe80c2b-2a20-4770-c856-e4c4a66970b4"
      },
      "execution_count": null,
      "outputs": [
        {
          "output_type": "stream",
          "name": "stdout",
          "text": [
            "Digite seu nome: luiz\n",
            "Digite sua idade 21\n",
            "Olá luiz , você poderá se aposentar em 2068\n"
          ]
        }
      ]
    },
    {
      "cell_type": "code",
      "source": [
        "#14. Faça um programa para o cálculo de uma folha de pagamento, sabendo que os descontos são do imposto de Renda,\n",
        "#que depende do salário bruto (conforme tabela abaixo), 3% para o Sindicato e que o FGTS corresponde a 11% do salário bruto,\n",
        "#mas não é descontado (é a empresa que deposita). O salário líquido corresponde ao salário bruto menos os descontos.\n",
        "#O programa deverá pedir ao usuário o valor da sua hora e a quantidade de horas trabalhadas no mês.\n",
        "#Desconto do IR:\n",
        "#Salário Bruto até R$ 2.112,00 (inclusive) - Isento;\n",
        "#De 2.112,01 até 2.826,65 (inclusive) - desconto de 7.5%;\n",
        "#De 2.826,66 até 3.751,05 (inclusive) - desconto de 15%;\n",
        "#De 3.751,06 até 4.664,68 (inclusive) desconto de 22.5%;\n",
        "#Acima de 4.664,68 desconto de 27.5%.\n",
        "\n",
        "vh = float(input(\"Digite quanto você recebe por hora: \"))\n",
        "qh = int(input(\"quantas horas você trabalha por mês: \"))\n",
        "vmq = vh * qh\n",
        "\n",
        "if(vmq <= 2112.00):\n",
        "  print(\"Você esta insento\")\n",
        "elif(vmq <= 2826.65):\n",
        "  print(\"Seu salario sofreu um desconto de 7.5%, equivalente a: \",vmq*0.075)\n",
        "elif(vmq <= 3751.05):\n",
        "  print(\"Seu salario sofreu um desconto de 15%, equivalente a: \",vmq*0.15)\n",
        "elif(vmq <= 4664.68):\n",
        "  print(\"Seu salario sofreu um desconto de 22.5%, equivalente a: \",vmq*0.225)\n",
        "elif(vmq >= 4664.69):\n",
        "  print(\"Seu salario sofreu um desconto de 27.5%, equivalente a: \",vmq*0.275)\n",
        "else:\n",
        "  print(\"valores invalidos\")"
      ],
      "metadata": {
        "id": "gJgDeuquDGmy",
        "colab": {
          "base_uri": "https://localhost:8080/"
        },
        "outputId": "f648c235-ec5a-4847-ada3-1a52712dd32f"
      },
      "execution_count": 22,
      "outputs": [
        {
          "output_type": "stream",
          "name": "stdout",
          "text": [
            "Digite quanto você recebe por hora: 50\n",
            "quantas horas você trabalha por mês: 2\n",
            "Você esta insento\n"
          ]
        }
      ]
    }
  ]
}