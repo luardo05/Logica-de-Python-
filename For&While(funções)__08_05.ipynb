{
  "nbformat": 4,
  "nbformat_minor": 0,
  "metadata": {
    "colab": {
      "provenance": [],
      "authorship_tag": "ABX9TyNpBbt7uENdy411i4Lgq9ja",
      "include_colab_link": true
    },
    "kernelspec": {
      "name": "python3",
      "display_name": "Python 3"
    },
    "language_info": {
      "name": "python"
    }
  },
  "cells": [
    {
      "cell_type": "markdown",
      "metadata": {
        "id": "view-in-github",
        "colab_type": "text"
      },
      "source": [
        "<a href=\"https://colab.research.google.com/github/luardo05/Logica-de-Python-/blob/main/For%26While(fun%C3%A7%C3%B5es)__08_05.ipynb\" target=\"_parent\"><img src=\"https://colab.research.google.com/assets/colab-badge.svg\" alt=\"Open In Colab\"/></a>"
      ]
    },
    {
      "cell_type": "code",
      "execution_count": null,
      "metadata": {
        "colab": {
          "base_uri": "https://localhost:8080/"
        },
        "id": "XXc1au6-OxJx",
        "outputId": "892b180d-90cd-404d-fdb3-d4bca9ffb769"
      },
      "outputs": [
        {
          "output_type": "stream",
          "name": "stdout",
          "text": [
            "Digite o nome do produto: a\n",
            "Digite o valor do produto: 1\n",
            "0\n",
            "Digite o nome do produto: b\n",
            "Digite o valor do produto: 2\n",
            "1\n",
            "Digite o nome do produto: c\n",
            "Digite o valor do produto: 3\n",
            "2\n",
            "Digite o nome do produto: d\n",
            "Digite o valor do produto: 4\n",
            "3\n"
          ]
        }
      ],
      "source": [
        "for produto in range(0, 4):\n",
        "  p = str(input(\"Digite o nome do produto: \"))\n",
        "  v = float(input(\"Digite o valor do produto: \"))\n",
        "  print(produto)"
      ]
    },
    {
      "cell_type": "code",
      "source": [
        "for elemento in [1,2,3,4,5,6]:\n",
        "  print(\"Estamos no elemento\", elemento)"
      ],
      "metadata": {
        "colab": {
          "base_uri": "https://localhost:8080/"
        },
        "id": "ajBOU41WPacx",
        "outputId": "3289904d-6370-4d81-a96d-0d4c98a4c5c0"
      },
      "execution_count": null,
      "outputs": [
        {
          "output_type": "stream",
          "name": "stdout",
          "text": [
            "Estamos no elemento 1\n",
            "Estamos no elemento 2\n",
            "Estamos no elemento 3\n",
            "Estamos no elemento 4\n",
            "Estamos no elemento 5\n",
            "Estamos no elemento 6\n"
          ]
        }
      ]
    },
    {
      "cell_type": "code",
      "source": [
        "for elemento in \"STRING\":\n",
        "  print(\"Estamos no elemento\", elemento)"
      ],
      "metadata": {
        "colab": {
          "base_uri": "https://localhost:8080/"
        },
        "id": "BNIMpGPEQIAr",
        "outputId": "013afb4d-add1-4c34-8845-a01393809fb8"
      },
      "execution_count": null,
      "outputs": [
        {
          "output_type": "stream",
          "name": "stdout",
          "text": [
            "Estamos no elemento S\n",
            "Estamos no elemento T\n",
            "Estamos no elemento R\n",
            "Estamos no elemento I\n",
            "Estamos no elemento N\n",
            "Estamos no elemento G\n"
          ]
        }
      ]
    },
    {
      "cell_type": "code",
      "source": [
        "for elemento in range(len(\"string\")):\n",
        "  print(\"Estamos no elemento\", elemento)"
      ],
      "metadata": {
        "colab": {
          "base_uri": "https://localhost:8080/"
        },
        "id": "Aqwy9xQtQavU",
        "outputId": "6958a3c0-f7fa-4bf8-9b51-40e142eca763"
      },
      "execution_count": null,
      "outputs": [
        {
          "output_type": "stream",
          "name": "stdout",
          "text": [
            "Estamos no elemento 0\n",
            "Estamos no elemento 1\n",
            "Estamos no elemento 2\n",
            "Estamos no elemento 3\n",
            "Estamos no elemento 4\n",
            "Estamos no elemento 5\n"
          ]
        }
      ]
    },
    {
      "cell_type": "code",
      "source": [
        "produto = 0\n",
        "while produto < 4:\n",
        "  p = str(input(\"Digite o nome do produto: \"))\n",
        "  v = float(input(\"Digite o valor do produto: \"))\n",
        "  print(p, v)\n",
        "  produto += 1"
      ],
      "metadata": {
        "colab": {
          "base_uri": "https://localhost:8080/"
        },
        "id": "M7OaMIyCRnJO",
        "outputId": "d7b44dd7-bf99-43b5-c2d3-a87ee878da7c"
      },
      "execution_count": null,
      "outputs": [
        {
          "output_type": "stream",
          "name": "stdout",
          "text": [
            "Digite o nome do produto: a\n",
            "Digite o valor do produto: 1\n",
            "a 1.0\n",
            "Digite o nome do produto: b\n",
            "Digite o valor do produto: 2\n",
            "b 2.0\n",
            "Digite o nome do produto: c\n",
            "Digite o valor do produto: 3\n",
            "c 3.0\n",
            "Digite o nome do produto: d\n",
            "Digite o valor do produto: 4\n",
            "d 4.0\n"
          ]
        }
      ]
    },
    {
      "cell_type": "code",
      "source": [
        "elemento = 0\n",
        "while elemento <= len([1,2,3,4,5,6]):\n",
        "  print(\"Estamos no elemento\", elemento)\n",
        "  elemento += 1\n",
        "  #break"
      ],
      "metadata": {
        "colab": {
          "base_uri": "https://localhost:8080/"
        },
        "id": "u5_VH5fUTj83",
        "outputId": "5e15a1d8-3f7c-44be-aa85-7e91654c56d6"
      },
      "execution_count": null,
      "outputs": [
        {
          "output_type": "stream",
          "name": "stdout",
          "text": [
            "Estamos no elemento 0\n",
            "Estamos no elemento 1\n",
            "Estamos no elemento 2\n",
            "Estamos no elemento 3\n",
            "Estamos no elemento 4\n",
            "Estamos no elemento 5\n",
            "Estamos no elemento 6\n"
          ]
        }
      ]
    },
    {
      "cell_type": "code",
      "source": [
        "s = \"string\"\n",
        "indice = 0\n",
        "while indice in range(len(s)):\n",
        "  print(\"Estamos no elemento\", s[indice])\n",
        "  indice += 1"
      ],
      "metadata": {
        "colab": {
          "base_uri": "https://localhost:8080/"
        },
        "id": "vXbKRdbwUdk2",
        "outputId": "3bab23c9-0617-44c0-d5a9-0ca6a2d7b89b"
      },
      "execution_count": null,
      "outputs": [
        {
          "output_type": "stream",
          "name": "stdout",
          "text": [
            "Estamos no elemento s\n",
            "Estamos no elemento t\n",
            "Estamos no elemento r\n",
            "Estamos no elemento i\n",
            "Estamos no elemento n\n",
            "Estamos no elemento g\n",
            "Estamos no elemento g\n",
            "Estamos no elemento g\n",
            "Estamos no elemento g\n",
            "Estamos no elemento g\n",
            "Estamos no elemento g\n",
            "Estamos no elemento g\n",
            "Estamos no elemento g\n",
            "Estamos no elemento g\n",
            "Estamos no elemento g\n",
            "Estamos no elemento g\n",
            "Estamos no elemento g\n",
            "Estamos no elemento g\n",
            "Estamos no elemento g\n",
            "Estamos no elemento g\n",
            "Estamos no elemento g\n",
            "Estamos no elemento g\n",
            "Estamos no elemento g\n",
            "Estamos no elemento g\n"
          ]
        }
      ]
    },
    {
      "cell_type": "code",
      "source": [
        "palavra = \"tranquilo\"\n",
        "for indice, letra in enumerate(palavra):\n",
        "  print(indice, letra)"
      ],
      "metadata": {
        "colab": {
          "base_uri": "https://localhost:8080/"
        },
        "id": "8zSDLjYzWSYN",
        "outputId": "add7f8aa-370b-4370-b5c2-4093d7f87285"
      },
      "execution_count": null,
      "outputs": [
        {
          "output_type": "stream",
          "name": "stdout",
          "text": [
            "0 t\n",
            "1 r\n",
            "2 a\n",
            "3 n\n",
            "4 q\n",
            "5 u\n",
            "6 i\n",
            "7 l\n",
            "8 o\n"
          ]
        }
      ]
    },
    {
      "cell_type": "code",
      "source": [
        "lista = [\"eat\", \"sleep\", \"repeat\"]\n",
        "palavra = \"geek\"\n",
        "objeto1 = enumerate(lista)\n",
        "objeto2 = enumerate(palavra)\n",
        "\n",
        "print(\"Tipo: \", type(objeto1))\n",
        "print(list(enumerate(lista)))\n",
        "\n",
        "print(list(enumerate(palavra,2)))\n",
        "\n",
        "s = \"viva o python\"\n",
        "for ch in s:\n",
        "  print(\"oi\")"
      ],
      "metadata": {
        "colab": {
          "base_uri": "https://localhost:8080/"
        },
        "id": "vGty1DiuXo8o",
        "outputId": "a7c40702-d450-4854-ee18-91ded02ae0bf"
      },
      "execution_count": null,
      "outputs": [
        {
          "output_type": "stream",
          "name": "stdout",
          "text": [
            "Tipo:  <class 'enumerate'>\n",
            "[(0, 'eat'), (1, 'sleep'), (2, 'repeat')]\n",
            "[(2, 'g'), (3, 'e'), (4, 'e'), (5, 'k')]\n",
            "oi\n",
            "oi\n",
            "oi\n",
            "oi\n",
            "oi\n"
          ]
        }
      ]
    },
    {
      "cell_type": "code",
      "source": [
        "s = \"viva o python\"\n",
        "for ch in s[3:8]:\n",
        "  print(\"oi\")"
      ],
      "metadata": {
        "id": "QwIwCx2QaT5N"
      },
      "execution_count": null,
      "outputs": []
    },
    {
      "cell_type": "code",
      "source": [
        "#pedindo 10 numeros\n",
        "i=0\n",
        "par = 0\n",
        "impar = 0\n",
        "while (i < 10):\n",
        "  numero = int(input(\"Digite um numero: \"))\n",
        "#Calculando\n",
        "  if (numero%2 == 0):\n",
        "    par += 1\n",
        "  else:\n",
        "    impar += 1\n",
        "  i+=1\n",
        "#Resultado\n",
        "print(\"A quantidade de numeros pares é: \",par,\" e a quantidade de numeros impar é: \", impar)"
      ],
      "metadata": {
        "colab": {
          "base_uri": "https://localhost:8080/"
        },
        "id": "arNjBGdKavXC",
        "outputId": "a80679b9-28e9-4f29-9967-d6be8eb7fe4e"
      },
      "execution_count": null,
      "outputs": [
        {
          "output_type": "stream",
          "name": "stdout",
          "text": [
            "Digite um numero: 1\n",
            "Digite um numero: 1\n",
            "Digite um numero: 1\n",
            "Digite um numero: 1\n",
            "Digite um numero: 1\n",
            "Digite um numero: 5\n",
            "Digite um numero: 2\n",
            "Digite um numero: 2\n",
            "Digite um numero: 6\n",
            "Digite um numero: 1\n",
            "A quantidade de numeros pares é:  3  e a quantidade de numeros impar é:  7\n"
          ]
        }
      ]
    }
  ]
}