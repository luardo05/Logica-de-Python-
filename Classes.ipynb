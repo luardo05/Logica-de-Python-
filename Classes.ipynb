{
  "nbformat": 4,
  "nbformat_minor": 0,
  "metadata": {
    "colab": {
      "provenance": [],
      "authorship_tag": "ABX9TyO6Ab5EvfUqym/kOCn7MyvH",
      "include_colab_link": true
    },
    "kernelspec": {
      "name": "python3",
      "display_name": "Python 3"
    },
    "language_info": {
      "name": "python"
    }
  },
  "cells": [
    {
      "cell_type": "markdown",
      "metadata": {
        "id": "view-in-github",
        "colab_type": "text"
      },
      "source": [
        "<a href=\"https://colab.research.google.com/github/luardo05/Logica-de-Python-/blob/main/Classes.ipynb\" target=\"_parent\"><img src=\"https://colab.research.google.com/assets/colab-badge.svg\" alt=\"Open In Colab\"/></a>"
      ]
    },
    {
      "cell_type": "code",
      "execution_count": 13,
      "metadata": {
        "id": "qv_6fQlpSSyF"
      },
      "outputs": [],
      "source": [
        "#criando uma classe\n",
        "class Animal():\n",
        "\n",
        "  #construtror da classe\n",
        "  def __init__(self,name,weight,color):\n",
        "  #atributos\n",
        "    self.nome = name\n",
        "    self.peso = weight\n",
        "    self.corDoPelo = color\n",
        "\n",
        "  def imprimirDados(self):\n",
        "    return(\"Nome: %s \\nPeso: %s\" %(self.nome, self.peso))\n",
        "\n",
        "  def latir(self, barulho):\n",
        "    print(barulho)"
      ]
    },
    {
      "cell_type": "code",
      "source": [
        "print(\"\"\"\n",
        "\n",
        "───────────────────────────\n",
        "─████████───██████████████─\n",
        "─██░░░░██───██░░░░░░░░░░██─\n",
        "─████░░██───██░░██████░░██─\n",
        "───██░░██───██░░██──██░░██─\n",
        "───██░░██───██░░██──██░░██─\n",
        "───██░░██───██░░██──██░░██─\n",
        "───██░░██───██░░██──██░░██─\n",
        "───██░░██───██░░██──██░░██─\n",
        "─████░░████─██░░██████░░██─\n",
        "─██░░░░░░██─██░░░░░░░░░░██─\n",
        "─██████████─██████████████─\n",
        "───────────────────────────\n",
        "\n",
        "\"\"\")\n",
        "\n",
        "#Instacinado um objeto cachorro\n",
        "caozinho = Animal(\"Marlene\", 7.9, \"Caramelo\")\n",
        "gato = Animal(\"Cibele\", 4.5, \"cinza\")\n",
        "\n",
        "#chamando o método do objeto criado\n",
        "print(caozinho.imprimirDados())\n",
        "caozinho.latir(\"Au, Au!\\n\")\n",
        "\n",
        "print(gato.imprimirDados())\n",
        "gato.latir(\"Miau!\\n\")\n",
        "\n"
      ],
      "metadata": {
        "colab": {
          "base_uri": "https://localhost:8080/"
        },
        "id": "bSYjpdpAWIQL",
        "outputId": "a20af085-a1c9-416c-83a3-a68656a85dc4"
      },
      "execution_count": 17,
      "outputs": [
        {
          "output_type": "stream",
          "name": "stdout",
          "text": [
            "\n",
            "\n",
            "───────────────────────────\n",
            "─████████───██████████████─\n",
            "─██░░░░██───██░░░░░░░░░░██─\n",
            "─████░░██───██░░██████░░██─\n",
            "───██░░██───██░░██──██░░██─\n",
            "───██░░██───██░░██──██░░██─\n",
            "───██░░██───██░░██──██░░██─\n",
            "───██░░██───██░░██──██░░██─\n",
            "───██░░██───██░░██──██░░██─\n",
            "─████░░████─██░░██████░░██─\n",
            "─██░░░░░░██─██░░░░░░░░░░██─\n",
            "─██████████─██████████████─\n",
            "───────────────────────────\n",
            "\n",
            "\n",
            "Nome: Marlene \n",
            "Peso: 7.9\n",
            "Au, Au!\n",
            "\n",
            "Nome: Cibele \n",
            "Peso: 4.5\n",
            "Miau!\n",
            "\n"
          ]
        }
      ]
    },
    {
      "cell_type": "code",
      "source": [
        "# Criando uma classe chamada livro\n",
        "class Livro():\n",
        "\n",
        "  # Este método vai inicializar cada objeto criado a partir desta classe\n",
        "  # O nome deste método é __init__\n",
        "  # (self) é uma referência a cada atributo de um objeto criado a partir desta classe.\n",
        "  def __init__(self):\n",
        "\n",
        "    # Atributos de cada objeto criado a partir desta classe.\n",
        "    # O self indica que estes são atributos dos objetos\n",
        "    self.titulo = \"O monge e o executivo\"\n",
        "    self.isbn = 9988888\n",
        "    print(\"Construtor chamado para criar um objeto desta classe\")\n",
        "  # Métodos são funções, que recebem como parâmetro atributos do obejto criado.\n",
        "  def imprimi(self):\n",
        "    print(\"Foi criado o livro %s e ISBN %d\" %(self.titulo, self.isbn))"
      ],
      "metadata": {
        "id": "xLRTassTb_jq"
      },
      "execution_count": 20,
      "outputs": []
    },
    {
      "cell_type": "code",
      "source": [
        "  # Criando uma instância da classe Livro\n",
        "  Livro1 = Livro()\n",
        "\n",
        "# Construtor chamado para criar um obejto desta classe"
      ],
      "metadata": {
        "colab": {
          "base_uri": "https://localhost:8080/"
        },
        "id": "-dEt6TL9hmZi",
        "outputId": "56fe229d-a6dc-4a01-b089-8e61edd2f947"
      },
      "execution_count": 22,
      "outputs": [
        {
          "output_type": "stream",
          "name": "stdout",
          "text": [
            "Construtor chamado para criar um objeto desta classe\n"
          ]
        }
      ]
    },
    {
      "cell_type": "code",
      "source": [
        "# Criando a classe Livro com parâmetros no método construtor\n",
        "class Livro():\n",
        "  def __init__(self, titulo, isbn):\n",
        "    self.titulo = titulo\n",
        "    self.isbn = isbn\n",
        "    print(\"Construtor chamado para criar um objeto desta classe\")\n",
        "\n",
        "  def imprime(self, titulo, isbn):\n",
        "    print(\"Este é o livro %s e ISBN %d\" %(titulo, isbn))"
      ],
      "metadata": {
        "id": "UAfDzknCfoCD"
      },
      "execution_count": 23,
      "outputs": []
    },
    {
      "cell_type": "code",
      "source": [
        "# Criando o objeto Livro2 que é uma instância da classe livro\n",
        "Livro2 = Livro(\"A Menina que Roubava Livros\", 77886611)"
      ],
      "metadata": {
        "colab": {
          "base_uri": "https://localhost:8080/"
        },
        "id": "lsg9TqKEhD9C",
        "outputId": "300ac83a-a9a4-420e-c583-765cb70c871f"
      },
      "execution_count": 24,
      "outputs": [
        {
          "output_type": "stream",
          "name": "stdout",
          "text": [
            "Construtor chamado para criar um objeto desta classe\n"
          ]
        }
      ]
    },
    {
      "cell_type": "code",
      "source": [
        "Livro2.titulo"
      ],
      "metadata": {
        "colab": {
          "base_uri": "https://localhost:8080/",
          "height": 36
        },
        "id": "rMOl8ijuhaLC",
        "outputId": "711111a7-97d8-470a-cde8-36f97cba7f5a"
      },
      "execution_count": 25,
      "outputs": [
        {
          "output_type": "execute_result",
          "data": {
            "text/plain": [
              "'A Menina que Roubava Livros'"
            ],
            "application/vnd.google.colaboratory.intrinsic+json": {
              "type": "string"
            }
          },
          "metadata": {},
          "execution_count": 25
        }
      ]
    }
  ]
}