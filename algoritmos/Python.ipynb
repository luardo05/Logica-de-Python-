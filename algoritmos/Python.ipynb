{
 "cells": [
  {
   "cell_type": "code",
   "execution_count": 12,
   "metadata": {},
   "outputs": [
    {
     "name": "stdout",
     "output_type": "stream",
     "text": [
      "55\n"
     ]
    }
   ],
   "source": [
    "idade1 = 20\n",
    "idade2 = 35\n",
    "somaIdades = idade1+idade2\n",
    "print (somaIdades)  "
   ]
  },
  {
   "cell_type": "code",
   "execution_count": 14,
   "metadata": {},
   "outputs": [
    {
     "name": "stdout",
     "output_type": "stream",
     "text": [
      "30\n",
      "5\n",
      "80\n",
      "4.0\n"
     ]
    }
   ],
   "source": [
    "print (idade1 + 10)\n",
    "print (idade1 - 15)\n",
    "print (idade1 * 4)\n",
    "print (idade1 / 5)"
   ]
  },
  {
   "cell_type": "code",
   "execution_count": 16,
   "metadata": {},
   "outputs": [
    {
     "name": "stdout",
     "output_type": "stream",
     "text": [
      "75\n",
      "66.25\n",
      "36.25\n"
     ]
    }
   ],
   "source": [
    "print (2*(idade1) + (idade2))\n",
    "print (2* idade1 + 3 * idade2 /4)\n",
    "print ((2 * idade1 + 3 * idade2)/4)"
   ]
  },
  {
   "cell_type": "code",
   "execution_count": 21,
   "metadata": {},
   "outputs": [
    {
     "name": "stdout",
     "output_type": "stream",
     "text": [
      "400\n",
      "225\n"
     ]
    }
   ],
   "source": [
    "print (idade1 ** 2)\n",
    "print (15 ** 2)"
   ]
  },
  {
   "cell_type": "code",
   "execution_count": 23,
   "metadata": {},
   "outputs": [
    {
     "data": {
      "text/plain": [
       "1.75"
      ]
     },
     "execution_count": 23,
     "metadata": {},
     "output_type": "execute_result"
    }
   ],
   "source": [
    "print (idade2 // idade1)\n",
    "print (idade2 / idade1)"
   ]
  },
  {
   "cell_type": "code",
   "execution_count": 24,
   "metadata": {},
   "outputs": [
    {
     "data": {
      "text/plain": [
       "15"
      ]
     },
     "execution_count": 24,
     "metadata": {},
     "output_type": "execute_result"
    }
   ],
   "source": [
    "idade2 % idade1"
   ]
  },
  {
   "cell_type": "code",
   "execution_count": 34,
   "metadata": {},
   "outputs": [
    {
     "name": "stdout",
     "output_type": "stream",
     "text": [
      "Luiz Eduardo de Almeida\n"
     ]
    }
   ],
   "source": [
    "nome = \"Luiz Eduardo\"\n",
    "sobrenome = \" de Almeida\"\n",
    "print (nome + sobrenome)"
   ]
  },
  {
   "cell_type": "code",
   "execution_count": 27,
   "metadata": {},
   "outputs": [
    {
     "name": "stdout",
     "output_type": "stream",
     "text": [
      "Luiz Eduardo de Almeida\n"
     ]
    }
   ],
   "source": [
    "print (nome + '' + sobrenome)"
   ]
  },
  {
   "cell_type": "code",
   "execution_count": 35,
   "metadata": {},
   "outputs": [
    {
     "name": "stdout",
     "output_type": "stream",
     "text": [
      "Olá, Luiz Eduardo você tem 35 anos.\n"
     ]
    }
   ],
   "source": [
    "print (\"Olá,\", nome,\"você tem\", idade1 + 15, \"anos.\")"
   ]
  },
  {
   "cell_type": "code",
   "execution_count": 36,
   "metadata": {},
   "outputs": [
    {
     "name": "stdout",
     "output_type": "stream",
     "text": [
      "Olá, Luiz Eduardo \n",
      " você tem 35 anos.\n"
     ]
    }
   ],
   "source": [
    "print (\"Olá,\", nome, \"\\n\",\"você tem\", idade1 + 15, \"anos.\")"
   ]
  },
  {
   "cell_type": "code",
   "execution_count": 39,
   "metadata": {},
   "outputs": [
    {
     "name": "stdout",
     "output_type": "stream",
     "text": [
      "luiz\n",
      "eduardo\n"
     ]
    }
   ],
   "source": [
    "nome0 = input(\"Digite o sue nome: \")\n",
    "print (nome0)\n",
    "nome2 = str(input(\"Digite o sue nome: \"))\n",
    "print (nome2)"
   ]
  }
 ],
 "metadata": {
  "kernelspec": {
   "display_name": "Python 3",
   "language": "python",
   "name": "python3"
  },
  "language_info": {
   "codemirror_mode": {
    "name": "ipython",
    "version": 3
   },
   "file_extension": ".py",
   "mimetype": "text/x-python",
   "name": "python",
   "nbconvert_exporter": "python",
   "pygments_lexer": "ipython3",
   "version": "3.9.13"
  }
 },
 "nbformat": 4,
 "nbformat_minor": 2
}
