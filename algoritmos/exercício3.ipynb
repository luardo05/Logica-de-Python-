{
 "cells": [
  {
   "cell_type": "code",
   "execution_count": 2,
   "metadata": {},
   "outputs": [
    {
     "name": "stdout",
     "output_type": "stream",
     "text": [
      "Seu número escolhido foi: 33\n"
     ]
    }
   ],
   "source": [
    "\n",
    "#pedir número\n",
    "numero = int(input(\"digite um número:\"))\n",
    "print(\"Seu número escolhido foi:\", numero)"
   ]
  },
  {
   "cell_type": "code",
   "execution_count": 4,
   "metadata": {},
   "outputs": [
    {
     "name": "stdout",
     "output_type": "stream",
     "text": [
      "36\n"
     ]
    }
   ],
   "source": [
    "#pedir número\n",
    "numero1 = int(input(\"digite número1:\"))\n",
    "numero2 = int(input(\"digite número2:\"))\n",
    "print(numero1+numero2)\n"
   ]
  },
  {
   "cell_type": "code",
   "execution_count": 8,
   "metadata": {},
   "outputs": [
    {
     "name": "stdout",
     "output_type": "stream",
     "text": [
      "6.666666666666667\n"
     ]
    }
   ],
   "source": [
    "#média de notas\n",
    "nota1 = int(input(\"nota1:\"))\n",
    "nota2 = int(input(\"nota2:\"))\n",
    "nota3 = int(input(\"nota3:\"))\n",
    "print((nota1+nota2+nota3)/3)"
   ]
  },
  {
   "cell_type": "code",
   "execution_count": 12,
   "metadata": {},
   "outputs": [
    {
     "name": "stdout",
     "output_type": "stream",
     "text": [
      "1664\n"
     ]
    }
   ],
   "source": [
    "#cálculo de horas trabalhadas\n",
    "ganho_hora = int(input(\"ganhohora:\"))\n",
    "hora = int(input(\"Hora:\"))\n",
    "print(ganho_hora * Hora)\n",
    "                      "
   ]
  },
  {
   "cell_type": "code",
   "execution_count": 1,
   "metadata": {},
   "outputs": [
    {
     "name": "stdout",
     "output_type": "stream",
     "text": [
      "A multa é: 12\n"
     ]
    }
   ],
   "source": [
    "#Peso do peixe \n",
    "peso = int(input(\"peso:\"))\n",
    "peso_base = 50\n",
    "#O peso deve ser menor ou igual ao peso base\n",
    "excesso = peso - peso_base\n",
    "#o peso excedente gera uma multa de 4,00 por quilo \n",
    "multa_base = 4\n",
    "multa = excesso * multa_base \n",
    "print(\"A multa é:\" , multa)\n"
   ]
  }
 ],
 "metadata": {
  "kernelspec": {
   "display_name": "Python 3",
   "language": "python",
   "name": "python3"
  },
  "language_info": {
   "codemirror_mode": {
    "name": "ipython",
    "version": 3
   },
   "file_extension": ".py",
   "mimetype": "text/x-python",
   "name": "python",
   "nbconvert_exporter": "python",
   "pygments_lexer": "ipython3",
   "version": "3.9.13"
  }
 },
 "nbformat": 4,
 "nbformat_minor": 2
}
