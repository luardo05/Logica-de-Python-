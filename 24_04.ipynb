{
  "nbformat": 4,
  "nbformat_minor": 0,
  "metadata": {
    "colab": {
      "provenance": [],
      "authorship_tag": "ABX9TyM6lqfwTCiRkfTqZSVy//jB",
      "include_colab_link": true
    },
    "kernelspec": {
      "name": "python3",
      "display_name": "Python 3"
    },
    "language_info": {
      "name": "python"
    }
  },
  "cells": [
    {
      "cell_type": "markdown",
      "metadata": {
        "id": "view-in-github",
        "colab_type": "text"
      },
      "source": [
        "<a href=\"https://colab.research.google.com/github/luardo05/Logica-de-Python-/blob/main/24_04.ipynb\" target=\"_parent\"><img src=\"https://colab.research.google.com/assets/colab-badge.svg\" alt=\"Open In Colab\"/></a>"
      ]
    },
    {
      "cell_type": "code",
      "execution_count": null,
      "metadata": {
        "id": "x_BHkydVdd8d"
      },
      "outputs": [],
      "source": [
        "dias = [3,1,10]\n",
        "print(dias[0])\n",
        "print(dias[1])\n",
        "print(dias[2])"
      ]
    },
    {
      "cell_type": "code",
      "source": [
        "z = [3,8,9]\n",
        "z[0]=7\n",
        "print(z)"
      ],
      "metadata": {
        "id": "9arbWAC6dnYu"
      },
      "execution_count": null,
      "outputs": []
    },
    {
      "cell_type": "code",
      "source": [
        "v=[6,7,5,8,9]\n",
        "l = v\n",
        "print(l[0])\n",
        "\n",
        "print(v==l)#coparando conteudo\n",
        "print(v is l)#comparando se são a mesma coisa\n",
        "v[0]=5\n",
        "print(v)\n",
        "print(l)"
      ],
      "metadata": {
        "id": "zLmHLarAdnj9"
      },
      "execution_count": null,
      "outputs": []
    },
    {
      "cell_type": "code",
      "source": [
        "a= [81,82,83]\n",
        "b = a[:]#cria um clone com fatia\n",
        "\n",
        "print(a==b)\n",
        "print(a is b)\n",
        "b[0]=5\n",
        "print(a)\n",
        "print(b)\n"
      ],
      "metadata": {
        "id": "k_PpJfs0dnw1"
      },
      "execution_count": null,
      "outputs": []
    },
    {
      "cell_type": "code",
      "source": [
        "uma_lista=['a','b','c','d','e','f']\n",
        "#[:], até. Vai até um numero antes do objetivo final\n",
        "print(uma_lista[1:3])#do 1° até o 3°\n",
        "print(uma_lista[:4])#Do início até o 4°\n",
        "print(uma_lista[3:])#Do 3° até o final\n",
        "print(uma_lista[:])#Do início até o final"
      ],
      "metadata": {
        "id": "oqga5OwWdn7t"
      },
      "execution_count": null,
      "outputs": []
    },
    {
      "cell_type": "code",
      "source": [
        "a=[1,2,3]\n",
        "b=a[:]\n",
        "b[0]=5\n",
        "print(a[3])"
      ],
      "metadata": {
        "id": "MXI22AZJdoN1"
      },
      "execution_count": null,
      "outputs": []
    },
    {
      "cell_type": "code",
      "source": [
        "minhaLista = [76,92.3, \"oi\", True, 4, 76]\n",
        "if (minhaLista[0] == \"\"):\n",
        "    print(\"\")\n",
        "elif(minhaLista[1] == \"\"):\n",
        "    print(\"\")\n",
        "elif(minhaLista[2] == \"\"):\n",
        "    print(\"\")\n",
        "elif(minhaLista[3] == \"\"):\n",
        "    print(\"\")\n",
        "elif(minhaLista[4] == \"\"):\n",
        "    print(\"\")\n",
        "elif(minhaLista[5] == \"\"):\n",
        "    print(\"\")\n",
        "elif(minhaLista[6] == \"\"):\n",
        "    minhaLista[6] = \"pitomba\"\n",
        "elif(minhaLista[7] == \"\"):\n",
        "        minhaLista[6] = 76\n",
        "        print(minhaLista)\n",
        "    else:\n",
        "        print(\"\")\n",
        "else:\n",
        "    print(\"minhaLista\")"
      ],
      "metadata": {
        "id": "TMPlDuyKdxCF"
      },
      "execution_count": null,
      "outputs": []
    },
    {
      "cell_type": "code",
      "source": [
        "#A\n",
        "minhaLista = [76,92.3, \"oi\", True, 4, 76]\n",
        "a = [\"pitomba\", 76]\n",
        "minhaLista += a\n",
        "print(minhaLista)\n",
        "\n",
        "#B\n",
        "minhaLista[:3] += \"Cibele\",\n",
        "print(minhaLista)\n",
        "\n",
        "#C\n",
        "minhaLista[:0] += 99,\n",
        "print(minhaLista)\n",
        "\n",
        "#D\n",
        "if(minhaLista[0]== \"oi\"):\n",
        "    print(\"Oi está no indice 0\")\n",
        "elif(minhaLista[1]== \"oi\"):\n",
        "    print(\"Oi está no indice 1\")\n",
        "elif(minhaLista[2]== \"oi\"):\n",
        "    print(\"Oi está no indice 2\")\n",
        "elif(minhaLista[3]== \"oi\"):\n",
        "    print(\"Oi está no indice 3\")\n",
        "elif(minhaLista[4]== \"oi\"):\n",
        "    print(\"Oi está no indice 4\")\n",
        "elif(minhaLista[5]== \"oi\"):\n",
        "    print(\"Oi está no indice 5\")\n",
        "elif(minhaLista[6]== \"oi\"):\n",
        "    print(\"Oi está no indice 6\")\n",
        "elif(minhaLista[7]== \"oi\"):\n",
        "    print(\"Oi está no indice 7\")\n",
        "elif(minhaLista[8]== \"oi\"):\n",
        "    print(\"Oi está no indice 8\")\n",
        "else:\n",
        "    print(\"o Oi não está na lista\")\n",
        "\n",
        "if(minhaLista[0]== True):\n",
        "    print(minhaLista[1:])\n",
        "elif(minhaLista[1]== True):\n",
        "    print(minhaLista[:0]+minhaLista[2:])\n",
        "elif(minhaLista[2]== True):\n",
        "    print(minhaLista[0:1]+minhaLista[3:])\n",
        "elif(minhaLista[3]== True):\n",
        "    print(minhaLista[0:2]+minhaLista[4:])\n",
        "elif(minhaLista[4]== True):\n",
        "    print(minhaLista[0:3]+minhaLista[5:])\n",
        "elif(minhaLista[5]== True):\n",
        "    print(minhaLista[0:4]+minhaLista[6:])\n",
        "else:\n",
        "    print(\"o Oi não está na lista\")\n",
        "\n",
        "\n",
        "\n",
        "#E"
      ],
      "metadata": {
        "id": "mLCRmqXXdxNU"
      },
      "execution_count": null,
      "outputs": []
    },
    {
      "cell_type": "code",
      "source": [
        "tupla_numeros = 10,20,30\n",
        "print(tupla_numeros)\n",
        "\n",
        "tupla_elemento = 10\n",
        "print(tupla_elemento)\n",
        "\n",
        "#tupla_vazia()\n",
        "#print(tupla_vazia)\n",
        "\n",
        "nova_tupla = tuple(\"Teste\")\n",
        "print(nova_tupla)\n",
        "\n",
        "tupla_nomes = (\"Marlene\", \"Zezinho\", \"Marlene\", \"Cibele\", \"Zuely\")\n",
        "tupla_nomes.count(\"marlene\")\n",
        "print(tupla_nomes.count(\"Suely\"))\n",
        "print(tupla_nomes.count(\"Zezinho\"))"
      ],
      "metadata": {
        "id": "SmMVG8E3dxY9"
      },
      "execution_count": null,
      "outputs": []
    },
    {
      "cell_type": "code",
      "source": [
        "tupla1= 1,2,2,3,4,4,4,5\n",
        "print(tupla1.count(4))"
      ],
      "metadata": {
        "id": "EAB2E712d1Lt"
      },
      "execution_count": null,
      "outputs": []
    }
  ]
}