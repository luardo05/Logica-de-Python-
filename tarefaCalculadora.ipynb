{
  "nbformat": 4,
  "nbformat_minor": 0,
  "metadata": {
    "colab": {
      "provenance": [],
      "authorship_tag": "ABX9TyNNPIp340Y5KxIBc/l/u7Pw",
      "include_colab_link": true
    },
    "kernelspec": {
      "name": "python3",
      "display_name": "Python 3"
    },
    "language_info": {
      "name": "python"
    }
  },
  "cells": [
    {
      "cell_type": "markdown",
      "metadata": {
        "id": "view-in-github",
        "colab_type": "text"
      },
      "source": [
        "<a href=\"https://colab.research.google.com/github/luardo05/Logica-de-Python-/blob/main/tarefaCalculadora.ipynb\" target=\"_parent\"><img src=\"https://colab.research.google.com/assets/colab-badge.svg\" alt=\"Open In Colab\"/></a>"
      ]
    },
    {
      "cell_type": "code",
      "execution_count": 1,
      "metadata": {
        "id": "IPXEAThIzTbz"
      },
      "outputs": [],
      "source": [
        "def soma(n1,n2):\n",
        "  return n1+n2\n",
        "\n",
        "def subtrai(n1,n2):\n",
        "  return n1-n2\n",
        "\n",
        "def multiplica(n1,n2):\n",
        "  return n1*n2\n",
        "\n",
        "def divide(n1,n2):\n",
        "  return n1/n2\n",
        "\n",
        "def raiz(nx):\n",
        "  return nx**(1/2)\n",
        "\n",
        "def porcentagem(np,nn):\n",
        "  return nn * np/100"
      ]
    },
    {
      "cell_type": "code",
      "source": [
        "while True:\n",
        "  print(\"+========================+\")\n",
        "  print(\"|    MENU DE OPERAÇÕES   |\")\n",
        "  print(\"|      1 - SOMAR         |\")\n",
        "  print(\"|      2 - SUBTRAIR      |\")\n",
        "  print(\"|      3 - MULTIPLICAR   |\")\n",
        "  print(\"|      4 - DIVIDIR       |\")\n",
        "  print(\"|      5 - RAIZ QUADRADA |\")\n",
        "  print(\"|      6 - PORCENTAGEM   |\")\n",
        "  print(\"|      0 - SAIR          |\")\n",
        "  print(\"+========================+\")\n",
        "\n",
        "  op = float(input())\n",
        "  if op == 0:\n",
        "    break\n",
        "\n",
        "  if op == 1:\n",
        "    n1 = float(input(\"Primeiro número: \"))\n",
        "    n2 = float(input(\"Segundo número: \"))\n",
        "    print(\"O resultado da soma é: \", soma(n1,n2))\n",
        "\n",
        "  elif op == 2:\n",
        "    n1 = float(input(\"Primeiro número: \"))\n",
        "    n2 = float(input(\"Segundo número: \"))\n",
        "    print(\"O resultado da subtração é: \", subtrai(n1,n2))\n",
        "\n",
        "  elif op == 3:\n",
        "    n1 = float(input(\"Primeiro número: \"))\n",
        "    n2 = float(input(\"Segundo número: \"))\n",
        "    print(\"O resultado da multiplicação é: \", multiplica(n1,n2))\n",
        "\n",
        "  elif op == 4:\n",
        "    n1 = float(input(\"Primeiro número: \"))\n",
        "    n2 = float(input(\"Segundo número: \"))\n",
        "    print(\"O resultado da davisão é: \", divide(n1,n2))\n",
        "\n",
        "  elif op == 5:\n",
        "    nx = float(input(\"Digite o número: \"))\n",
        "    print(\"A raiz quadrada de\",nx,\"é: \", raiz(nx))\n",
        "\n",
        "  elif op == 6:\n",
        "    nn = float(input(\"Digite o número: \"))\n",
        "    np = float(input(\"Digite a porcentagem desse número: \"))\n",
        "    print(np,\"% de\",nn,\"é igual a:\", porcentagem(np,nn))\n",
        "\n",
        "  else:\n",
        "    break"
      ],
      "metadata": {
        "id": "4BuHiq6pzYZT"
      },
      "execution_count": null,
      "outputs": []
    }
  ]
}