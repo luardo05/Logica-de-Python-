{
  "nbformat": 4,
  "nbformat_minor": 0,
  "metadata": {
    "colab": {
      "provenance": [],
      "authorship_tag": "ABX9TyP0k43LjZhjFaBpd2Xu8RS2",
      "include_colab_link": true
    },
    "kernelspec": {
      "name": "python3",
      "display_name": "Python 3"
    },
    "language_info": {
      "name": "python"
    }
  },
  "cells": [
    {
      "cell_type": "markdown",
      "metadata": {
        "id": "view-in-github",
        "colab_type": "text"
      },
      "source": [
        "<a href=\"https://colab.research.google.com/github/luardo05/Logica-de-Python-/blob/main/Tarefa_musicas_22_05.ipynb\" target=\"_parent\"><img src=\"https://colab.research.google.com/assets/colab-badge.svg\" alt=\"Open In Colab\"/></a>"
      ]
    },
    {
      "cell_type": "code",
      "execution_count": 5,
      "metadata": {
        "colab": {
          "base_uri": "https://localhost:8080/"
        },
        "id": "vBgdJ7rHkVPC",
        "outputId": "c2c33061-f3f3-4417-ccfa-217c58567e8b"
      },
      "outputs": [
        {
          "output_type": "stream",
          "name": "stdout",
          "text": [
            "5 patinhos foram passear, além das montanhas para brincar, a mamãe gritou: quá quá quá quá, mas só 4 patinhos voltaram de la\n",
            "4 patinhos foram passear, além das montanhas para brincar, a mamãe gritou: quá quá quá quá, mas só 3 patinhos voltaram de la\n",
            "3 patinhos foram passear, além das montanhas para brincar, a mamãe gritou: quá quá quá quá, mas só 2 patinhos voltaram de la\n",
            "2 patinhos foram passear, além das montanhas para brincar, a mamãe gritou: quá quá quá quá, mas só 1 patinho voltou de la\n",
            "1 patinho foi passear, além da montanhas para brincar, a mamãe gritou: quá quá quá quá, mas menhum patinho voltou de la\n"
          ]
        }
      ],
      "source": [
        "for patos in [5,4,3,2,1]:\n",
        "  if(patos>2):\n",
        "    print(patos,\"patinhos foram passear, além das montanhas para brincar, a mamãe gritou: quá quá quá quá, mas só\",patos-1, \"patinhos voltaram de la\")\n",
        "  elif(patos==2):\n",
        "   print(patos,\"patinhos foram passear, além das montanhas para brincar, a mamãe gritou: quá quá quá quá, mas só\",patos-1, \"patinho voltou de la\")\n",
        "  else:\n",
        "    print(patos,\"patinho foi passear, além das montanhas para brincar, a mamãe gritou: quá quá quá quá, mas menhum patinho voltou de la\")"
      ]
    },
    {
      "cell_type": "code",
      "source": [
        "for elefante in range(1,11):\n",
        "  if(elefante <= 1):\n",
        "    print(elefante,\"elefante incomoda muita gente\")\n",
        "  elif(elefante%2 ==0):\n",
        "    print(elefante, \"elefantes\", \"incomodam \"*elefante,\"muito mais\")\n",
        "  else:\n",
        "    print(elefante, \"incomodam muita gente\")\n",
        "print(\"\\n\\n\")\n",
        "for elefante in [10,9,8,7,6,5,4,3,2,1]:\n",
        "  if(elefante <= 1):\n",
        "    print(elefante,\"elefante incomoda muita menos\")\n",
        "  elif(elefante%2 != 0):\n",
        "    print(elefante, \"elefantes\", \"incomodam \"*elefante,\"muito menos\")\n",
        "  else:\n",
        "    print(elefante, \"incomodam muita gente\")"
      ],
      "metadata": {
        "colab": {
          "base_uri": "https://localhost:8080/"
        },
        "id": "5Xb82CNqkkKO",
        "outputId": "f4bb6c80-400e-4557-87c3-4815a8a7731b"
      },
      "execution_count": 2,
      "outputs": [
        {
          "output_type": "stream",
          "name": "stdout",
          "text": [
            "1 elefante incomoda muita gente\n",
            "2 elefantes incomodam incomodam  muito mais\n",
            "3 incomodam muita gente\n",
            "4 elefantes incomodam incomodam incomodam incomodam  muito mais\n",
            "5 incomodam muita gente\n",
            "6 elefantes incomodam incomodam incomodam incomodam incomodam incomodam  muito mais\n",
            "7 incomodam muita gente\n",
            "8 elefantes incomodam incomodam incomodam incomodam incomodam incomodam incomodam incomodam  muito mais\n",
            "9 incomodam muita gente\n",
            "10 elefantes incomodam incomodam incomodam incomodam incomodam incomodam incomodam incomodam incomodam incomodam  muito mais\n",
            "\n",
            "\n",
            "\n",
            "10 incomodam muita gente\n",
            "9 elefantes incomodam incomodam incomodam incomodam incomodam incomodam incomodam incomodam incomodam  muito menos\n",
            "8 incomodam muita gente\n",
            "7 elefantes incomodam incomodam incomodam incomodam incomodam incomodam incomodam  muito menos\n",
            "6 incomodam muita gente\n",
            "5 elefantes incomodam incomodam incomodam incomodam incomodam  muito menos\n",
            "4 incomodam muita gente\n",
            "3 elefantes incomodam incomodam incomodam  muito menos\n",
            "2 incomodam muita gente\n",
            "1 elefante incomoda muita menos\n"
          ]
        }
      ]
    },
    {
      "cell_type": "code",
      "source": [
        "for Mariana in [1,2,3,4,5,6,7,8,9,10]:\n",
        "  print(\"Mariana conta\" ,Mariana, \"Mariana conta\", Mariana,)\n",
        "  h = 1\n",
        "  while(h <= Mariana):\n",
        "    print(\"é\", h)\n",
        "    h=h+1\n",
        "  print(\"É Ana\")\n",
        "  print(\"Viva mariana\")\n",
        "  print(\"Viva mariana\")"
      ],
      "metadata": {
        "colab": {
          "base_uri": "https://localhost:8080/"
        },
        "id": "EHl9Pk2rklbU",
        "outputId": "9255f464-56af-4e26-b138-e0fe5c993ab8"
      },
      "execution_count": 3,
      "outputs": [
        {
          "output_type": "stream",
          "name": "stdout",
          "text": [
            "Mariana conta 1 Mariana conta 1\n",
            "é 1\n",
            "É Ana\n",
            "Viva mariana\n",
            "Viva mariana\n",
            "Mariana conta 2 Mariana conta 2\n",
            "é 1\n",
            "é 2\n",
            "É Ana\n",
            "Viva mariana\n",
            "Viva mariana\n",
            "Mariana conta 3 Mariana conta 3\n",
            "é 1\n",
            "é 2\n",
            "é 3\n",
            "É Ana\n",
            "Viva mariana\n",
            "Viva mariana\n",
            "Mariana conta 4 Mariana conta 4\n",
            "é 1\n",
            "é 2\n",
            "é 3\n",
            "é 4\n",
            "É Ana\n",
            "Viva mariana\n",
            "Viva mariana\n",
            "Mariana conta 5 Mariana conta 5\n",
            "é 1\n",
            "é 2\n",
            "é 3\n",
            "é 4\n",
            "é 5\n",
            "É Ana\n",
            "Viva mariana\n",
            "Viva mariana\n",
            "Mariana conta 6 Mariana conta 6\n",
            "é 1\n",
            "é 2\n",
            "é 3\n",
            "é 4\n",
            "é 5\n",
            "é 6\n",
            "É Ana\n",
            "Viva mariana\n",
            "Viva mariana\n",
            "Mariana conta 7 Mariana conta 7\n",
            "é 1\n",
            "é 2\n",
            "é 3\n",
            "é 4\n",
            "é 5\n",
            "é 6\n",
            "é 7\n",
            "É Ana\n",
            "Viva mariana\n",
            "Viva mariana\n",
            "Mariana conta 8 Mariana conta 8\n",
            "é 1\n",
            "é 2\n",
            "é 3\n",
            "é 4\n",
            "é 5\n",
            "é 6\n",
            "é 7\n",
            "é 8\n",
            "É Ana\n",
            "Viva mariana\n",
            "Viva mariana\n",
            "Mariana conta 9 Mariana conta 9\n",
            "é 1\n",
            "é 2\n",
            "é 3\n",
            "é 4\n",
            "é 5\n",
            "é 6\n",
            "é 7\n",
            "é 8\n",
            "é 9\n",
            "É Ana\n",
            "Viva mariana\n",
            "Viva mariana\n",
            "Mariana conta 10 Mariana conta 10\n",
            "é 1\n",
            "é 2\n",
            "é 3\n",
            "é 4\n",
            "é 5\n",
            "é 6\n",
            "é 7\n",
            "é 8\n",
            "é 9\n",
            "é 10\n",
            "É Ana\n",
            "Viva mariana\n",
            "Viva mariana\n"
          ]
        }
      ]
    }
  ]
}