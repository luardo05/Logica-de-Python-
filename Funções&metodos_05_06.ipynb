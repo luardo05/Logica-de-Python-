{
  "nbformat": 4,
  "nbformat_minor": 0,
  "metadata": {
    "colab": {
      "provenance": [],
      "authorship_tag": "ABX9TyNYyk4d4D4rtEPGSX8zBFVC",
      "include_colab_link": true
    },
    "kernelspec": {
      "name": "python3",
      "display_name": "Python 3"
    },
    "language_info": {
      "name": "python"
    }
  },
  "cells": [
    {
      "cell_type": "markdown",
      "metadata": {
        "id": "view-in-github",
        "colab_type": "text"
      },
      "source": [
        "<a href=\"https://colab.research.google.com/github/luardo05/Logica-de-Python-/blob/main/Fun%C3%A7%C3%B5es%26metodos_05_06.ipynb\" target=\"_parent\"><img src=\"https://colab.research.google.com/assets/colab-badge.svg\" alt=\"Open In Colab\"/></a>"
      ]
    },
    {
      "cell_type": "code",
      "execution_count": 19,
      "metadata": {
        "colab": {
          "base_uri": "https://localhost:8080/"
        },
        "id": "qAIOi8qcRhqY",
        "outputId": "3887787c-f026-4caa-e7fa-d4b6887074d6"
      },
      "outputs": [
        {
          "output_type": "stream",
          "name": "stdout",
          "text": [
            "Número  0\n",
            "Número  1\n",
            "Número  2\n",
            "Número  3\n",
            "Número  4\n"
          ]
        }
      ],
      "source": [
        "def funcaoLeitura():\n",
        "  for i in range(5):\n",
        "    print(\"Número \", i)\n",
        "funcaoLeitura()"
      ]
    },
    {
      "cell_type": "code",
      "source": [
        "def funcaoLeitura():\n",
        "  for num in [1,2,3,4,5]:\n",
        "    print(\"Número \", num)\n",
        "funcaoLeitura()"
      ],
      "metadata": {
        "colab": {
          "base_uri": "https://localhost:8080/"
        },
        "id": "Fb2BAU6FZmn0",
        "outputId": "09a98cb0-a636-4b28-b00c-2f2f1af73b00"
      },
      "execution_count": 18,
      "outputs": [
        {
          "output_type": "stream",
          "name": "stdout",
          "text": [
            "Número  1\n",
            "Número  2\n",
            "Número  3\n",
            "Número  4\n",
            "Número  5\n"
          ]
        }
      ]
    },
    {
      "cell_type": "code",
      "source": [
        "def addNum(n1, n2):\n",
        "  print(\"O primeiro número é: \", n1)\n",
        "  print(\"O segundo número é: \", n2)\n",
        "  print(\"A soma número é: \", n1+n2)\n"
      ],
      "metadata": {
        "id": "ZZgBZFYeSN5R"
      },
      "execution_count": 3,
      "outputs": []
    },
    {
      "cell_type": "code",
      "source": [
        "addNum(2,3)"
      ],
      "metadata": {
        "colab": {
          "base_uri": "https://localhost:8080/"
        },
        "id": "19qpRZRfShMi",
        "outputId": "4a5b8a33-58ca-4359-e6c2-e1a4409d2228"
      },
      "execution_count": 4,
      "outputs": [
        {
          "output_type": "stream",
          "name": "stdout",
          "text": [
            "O primeiro número é:  2\n",
            "O segundo número é:  3\n",
            "A soma número é:  5\n"
          ]
        }
      ]
    },
    {
      "cell_type": "code",
      "source": [
        "addNum(4,3)"
      ],
      "metadata": {
        "colab": {
          "base_uri": "https://localhost:8080/"
        },
        "id": "8f-FB9SVTSaf",
        "outputId": "f43b6dbf-711d-497a-ff70-fb4e8829ee06"
      },
      "execution_count": 5,
      "outputs": [
        {
          "output_type": "stream",
          "name": "stdout",
          "text": [
            "O primeiro número é:  4\n",
            "O segundo número é:  3\n",
            "A soma número é:  7\n"
          ]
        }
      ]
    },
    {
      "cell_type": "code",
      "source": [
        "addNum()"
      ],
      "metadata": {
        "id": "2HyHjxG0TVzw"
      },
      "execution_count": null,
      "outputs": []
    },
    {
      "cell_type": "code",
      "source": [
        "def funcaoLeitura():\n",
        "  for i in range(5):\n",
        "    print(\"Número \", i)\n",
        "funcaoLeitura()"
      ],
      "metadata": {
        "colab": {
          "base_uri": "https://localhost:8080/"
        },
        "id": "RjZ5Aow4UGHt",
        "outputId": "ffaded0e-0ee0-4858-b07e-0eff93ba9621"
      },
      "execution_count": 7,
      "outputs": [
        {
          "output_type": "stream",
          "name": "stdout",
          "text": [
            "Número  0\n",
            "Número  1\n",
            "Número  2\n",
            "Número  3\n",
            "Número  4\n"
          ]
        }
      ]
    },
    {
      "cell_type": "code",
      "source": [
        "varGlobal = 10#essa é uma variavel global\n",
        "def multiplicacao(num1, num2):\n",
        "  varGlobal = (num1 * num2)#Essa é uma variavel local\n",
        "  print(\"Variável da função Multiplica: \", varGlobal)\n",
        "multiplicacao(5,4)\n",
        "print(varGlobal)"
      ],
      "metadata": {
        "colab": {
          "base_uri": "https://localhost:8080/"
        },
        "id": "VQktnro0Vugo",
        "outputId": "18d7c385-b5a5-4eb1-d4f3-86b957f23338"
      },
      "execution_count": 22,
      "outputs": [
        {
          "output_type": "stream",
          "name": "stdout",
          "text": [
            "Variável da função Multiplica:  20\n",
            "10\n"
          ]
        }
      ]
    },
    {
      "cell_type": "code",
      "source": [
        "varGlobal = 10#essa é uma variavel global\n",
        "def multiplica(num1, num2):\n",
        "  varLocal = (num1 * num2)#Essa é uma variavel local\n",
        "  print(\"Variável da função Multiplica: \", varLocal)\n",
        "multiplica(5,4)\n"
      ],
      "metadata": {
        "colab": {
          "base_uri": "https://localhost:8080/"
        },
        "id": "HD3wonw7Xd0w",
        "outputId": "6abc0345-ff61-43b7-e044-01766c49e16f"
      },
      "execution_count": 20,
      "outputs": [
        {
          "output_type": "stream",
          "name": "stdout",
          "text": [
            "Variável da função Multiplica:  20\n",
            "10\n"
          ]
        }
      ]
    },
    {
      "cell_type": "code",
      "source": [
        "def separarTexto(texto):\n",
        "  return texto.split()\n",
        "separarTexto(\"luiz eduardo de almeida\")"
      ],
      "metadata": {
        "colab": {
          "base_uri": "https://localhost:8080/"
        },
        "id": "sKiDKcYabccc",
        "outputId": "c03a32b7-f78d-4a96-bf6a-8c8e0b3c680a"
      },
      "execution_count": 26,
      "outputs": [
        {
          "output_type": "execute_result",
          "data": {
            "text/plain": [
              "['luiz', 'eduardo', 'de', 'almeida']"
            ]
          },
          "metadata": {},
          "execution_count": 26
        }
      ]
    },
    {
      "cell_type": "code",
      "source": [
        "#Qaundo não sabemos a quantidade de parâmetros basta usar o *\n",
        "teste = \"luiz eduardo\"\n",
        "def variosParametros(*parametros):\n",
        "  for n, item in enumerate(parametros):\n",
        "    print(\"Parâmetro\", n, item)\n",
        "  return;\n",
        "variosParametros(\"Luiz\", \"Eduardo\", \"de\", \"Almeida\")"
      ],
      "metadata": {
        "colab": {
          "base_uri": "https://localhost:8080/"
        },
        "id": "XFSLDuUgiE1W",
        "outputId": "b760052b-0ef2-48f2-853e-7540b63e1c29"
      },
      "execution_count": 37,
      "outputs": [
        {
          "output_type": "stream",
          "name": "stdout",
          "text": [
            "Parâmetro 0 Luiz\n",
            "Parâmetro 1 Eduardo\n",
            "Parâmetro 2 de\n",
            "Parâmetro 3 Almeida\n"
          ]
        }
      ]
    },
    {
      "cell_type": "code",
      "source": [
        "def variosParametros(*parametros):\n",
        "  for n in enumerate(parametros):\n",
        "    print(\"Parâmetros\", n)\n",
        "  return;\n",
        "variosParametros(\"Luiz\", \"Eduardo\", \"de\", \"Almeida\")"
      ],
      "metadata": {
        "colab": {
          "base_uri": "https://localhost:8080/"
        },
        "id": "SJy9Q9NdkBRy",
        "outputId": "0e51a7b2-45c6-47f3-bb12-419d2d635640"
      },
      "execution_count": 38,
      "outputs": [
        {
          "output_type": "stream",
          "name": "stdout",
          "text": [
            "Parâmetros (0, 'Luiz')\n",
            "Parâmetros (1, 'Eduardo')\n",
            "Parâmetros (2, 'de')\n",
            "Parâmetros (3, 'Almeida')\n"
          ]
        }
      ]
    },
    {
      "cell_type": "code",
      "source": [
        "def variosParametros(*parametros):\n",
        "  print(parametros[1])\n",
        "  if (\"Eduardo\" in parametros):\n",
        "    print(\"boa\")\n",
        "  else:\n",
        "    print(\"droga\")\n",
        "  for n in enumerate(parametros):\n",
        "    print(\"Parâmetros\", n)\n",
        "  return;\n",
        "variosParametros(\"Luiz\", \"Eduardo\", \"de\", \"Almeida\")"
      ],
      "metadata": {
        "colab": {
          "base_uri": "https://localhost:8080/"
        },
        "id": "EeSQGNk8kHAT",
        "outputId": "3c44e91d-b64d-43e3-f4c1-3712c973a89f"
      },
      "execution_count": 47,
      "outputs": [
        {
          "output_type": "stream",
          "name": "stdout",
          "text": [
            "Eduardo\n",
            "boa\n",
            "Parâmetros (0, 'Luiz')\n",
            "Parâmetros (1, 'Eduardo')\n",
            "Parâmetros (2, 'de')\n",
            "Parâmetros (3, 'Almeida')\n"
          ]
        }
      ]
    },
    {
      "cell_type": "code",
      "source": [
        "def soma(n1,n2):\n",
        "  return n1+n2\n",
        "\n",
        "def subtrai(n1,n2):\n",
        "  return n1-n2\n",
        "\n",
        "def multiplica(n1,n2):\n",
        "  return n1*n2\n",
        "\n",
        "def divide(n1,n2):\n",
        "  return n1/n2"
      ],
      "metadata": {
        "id": "oUKMio2XkfRz"
      },
      "execution_count": 65,
      "outputs": []
    },
    {
      "cell_type": "code",
      "source": [
        "while True:\n",
        "  print(\"+========================+\")\n",
        "  print(\"|    MENU DE OPERAÇÕES   |\")\n",
        "  print(\"|      1 - SOMAR         |\")\n",
        "  print(\"|      2 - SUBTRAIR      |\")\n",
        "  print(\"|      3 - MULTIPLICAR   |\")\n",
        "  print(\"|      4 - DIVIDIR       |\")\n",
        "  print(\"|      5 - SAIR          |\")\n",
        "  print(\"+========================+\")\n",
        "\n",
        "  op = float(input())\n",
        "  if op == 0:\n",
        "    break\n",
        "\n",
        "  n1 = float(input(\"Primeiro número: \"))\n",
        "  n2 = float(input(\"Segundo número: \"))\n",
        "\n",
        "  if op == 1:\n",
        "    print(\"O resultado da soma é: \", soma(n1,n2))\n",
        "  elif op == 2:\n",
        "    print(\"O resultado da subtração é: \", subtrai(n1,n2))\n",
        "  elif op == 3:\n",
        "    print(\"O resultado da multiplicação é: \", multiplica(n1,n2))\n",
        "  elif op == 4:\n",
        "    print(\"O resultado da davisão é: \", divide(n1,n2))\n",
        "  else:\n",
        "    break"
      ],
      "metadata": {
        "colab": {
          "base_uri": "https://localhost:8080/"
        },
        "id": "N4U-qKv3ldOu",
        "outputId": "1fc78b1b-f9ed-420d-8cba-7e342e804e58"
      },
      "execution_count": 64,
      "outputs": [
        {
          "name": "stdout",
          "output_type": "stream",
          "text": [
            "+========================+\n",
            "|    MENU DE OPERAÇÕES   |\n",
            "|      1 - SOMAR         |\n",
            "|      2 - SUBTRAIR      |\n",
            "|      3 - MULTIPLICAR   |\n",
            "|      4 - DIVIDIR       |\n",
            "|      5 - SAIR          |\n",
            "+========================+\n",
            "1\n",
            "Primeiro número: 1\n",
            "Segundo número: 5\n",
            "O resultado da soma é:  6.0\n",
            "+========================+\n",
            "|    MENU DE OPERAÇÕES   |\n",
            "|      1 - SOMAR         |\n",
            "|      2 - SUBTRAIR      |\n",
            "|      3 - MULTIPLICAR   |\n",
            "|      4 - DIVIDIR       |\n",
            "|      5 - SAIR          |\n",
            "+========================+\n",
            "0\n"
          ]
        }
      ]
    }
  ]
}